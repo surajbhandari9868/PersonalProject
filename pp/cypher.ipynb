{
 "cells": [
  {
   "cell_type": "code",
   "execution_count": 2,
   "id": "indonesian-harmony",
   "metadata": {},
   "outputs": [
    {
     "data": {
      "text/plain": [
       "'\\nenter password\\n\\nasking for  choice...\\n1create new 2 view/open  3 modify \\n\\nwriting a text processing ecncryption saving ..\\n'"
      ]
     },
     "execution_count": 2,
     "metadata": {},
     "output_type": "execute_result"
    }
   ],
   "source": [
    "\"\"\"\n",
    "enter password\n",
    "\n",
    "asking for  choice...\n",
    "1create new 2 view/open  3 modify \n",
    "\n",
    "writing a text processing ecncryption saving ..\n",
    "\"\"\""
   ]
  },
  {
   "cell_type": "code",
   "execution_count": 3,
   "id": "soviet-amino",
   "metadata": {},
   "outputs": [],
   "source": [
    "from cryptography.fernet import Fernet\n",
    "from time import sleep\n",
    "import os"
   ]
  },
  {
   "cell_type": "code",
   "execution_count": 133,
   "id": "olympic-islam",
   "metadata": {},
   "outputs": [],
   "source": [
    "def generateKey(name):\n",
    "    key=Fernet.generate_key()\n",
    "    with open(name, \"wb\") as key_file:\n",
    "        key_file.write(key)\n",
    "    return key\n",
    "def Encrypt(key,sms):\n",
    "    fernet = Fernet(key)\n",
    "    encMessage = fernet.encrypt(sms[i].encode())\n",
    "    print(f\"Your original text is ...........[{sms}]...........\")\n",
    "    print(f\"Your Encoded message  .........[{encMessage}].....  \\nKeY used for encryption is ............. [{key}]..........\")\n",
    "    return encMessage\n",
    "    \n",
    "def Decrypt(encSMS,key):\n",
    "    fernet = Fernet(key)    \n",
    "    decMessage = fernet.decrypt(encSMS).decode()\n",
    "    print(f\"Decoded Message is   ............[{decMessage}]...........\")\n",
    "\n",
    "def demo():\n",
    "    print(\"Enter a string \")\n",
    "    s=input()\n",
    "    l=Encrypt(s)\n",
    "    Decrypt(l[0],l[1])\n",
    "    print()\n",
    "    a=input(\"Do u wanna Quit('q') or Continue('c')\")\n",
    "    return a    "
   ]
  },
  {
   "cell_type": "code",
   "execution_count": 124,
   "id": "warming-desktop",
   "metadata": {},
   "outputs": [
    {
     "name": "stdout",
     "output_type": "stream",
     "text": [
      "\n",
      "Here is the content on your file..... \n",
      "\n",
      "Decoded Message is   ............[My name is Suraj Singh Bhandari]...........\n"
     ]
    }
   ],
   "source": [
    "\n"
   ]
  },
  {
   "cell_type": "code",
   "execution_count": 106,
   "id": "extreme-triumph",
   "metadata": {},
   "outputs": [
    {
     "name": "stdout",
     "output_type": "stream",
     "text": [
      "File already exist \n"
     ]
    }
   ],
   "source": [
    "enc=\"aloveENC\"\n",
    "key=\"aloveKEY\"\n",
    "\n",
    "try:\n",
    "    with open(enc,'r') as f1, open(key,'r') as f2:\n",
    "        eNc= f1.read()\n",
    "        kEy= f2.read()\n",
    "        Decrypt(eNc,kEy)\n",
    "except:\n",
    "    print(\"File already exist \")  \n",
    "\n",
    "finally:\n",
    "    f1.close()\n",
    "    f2.close()"
   ]
  },
  {
   "cell_type": "code",
   "execution_count": 101,
   "id": "ongoing-ratio",
   "metadata": {},
   "outputs": [
    {
     "name": "stdout",
     "output_type": "stream",
     "text": [
      "Your original text is ...........[My name is Suraj Singh Bhandari]...........\n",
      "Your Encoded message  .........[gAAAAABgoVhq9NhOorLxo-OEJ6J_Fn8RnwkpZjcfOcKnJj65Uj3U-XUbm7_OkQYs4n-qT_HG2Ja2sPlWxeerQk7lLlCMybtl_y0upso8XVXsJvqgeP5_Swk=].....  \n",
      "KeY used for encryption is ............. [U14zQozKODe6vMnPtxDTpNp_z5IzsssmTtgybXKHn4A=]..........\n"
     ]
    },
    {
     "name": "stdin",
     "output_type": "stream",
     "text": [
      "Enter the Name for your file  alove\n"
     ]
    },
    {
     "name": "stdout",
     "output_type": "stream",
     "text": [
      ".. New file Intiated ....! Start Writing ... \n",
      "aloveENC\n",
      "msg encoding\n",
      "Key Encoded\n"
     ]
    }
   ],
   "source": [
    "script =\"My name is Suraj Singh Bhandari\"\n",
    "l=Encrypt(script)\n",
    "name=input(\"Enter the Name for your file \")\n",
    "print(\".. New file Intiated ....! Start Writing ... \")\n",
    "nameE=name+\"ENC\"\n",
    "nameK=name+\"KEY\"\n",
    "print(nameE)\n",
    "try:\n",
    "    with open(nameE,'w+') as f1:\n",
    "        f1.write(l[0])    \n",
    "        print(\"MSG encoding\")\n",
    "    with open(nameK,'w+') as f2:\n",
    "        f2.write(l[1])\n",
    "        print(\"Key Encoded\")\n",
    "except:\n",
    "    print(\"File already exist \")  \n",
    "finally:\n",
    "    f1.close()\n",
    "    f2.close()\n"
   ]
  },
  {
   "cell_type": "code",
   "execution_count": null,
   "id": "outside-patent",
   "metadata": {},
   "outputs": [],
   "source": []
  },
  {
   "cell_type": "markdown",
   "id": "empty-occupation",
   "metadata": {},
   "source": [
    "\"\"\"    \n",
    "with open(nameK,'w+') as f2:\n",
    "        print(\"KEY is \",l[1])\n",
    "        f2.writelines(l[1])\n",
    "        print(\"key encoding \")\n",
    "    print(r\"Your file with the encoded Name .. ' {} ' .. and the key is ' {} ' is created and saved succesfully \".format(nameE,nameK))    \n",
    "\"\"\""
   ]
  },
  {
   "cell_type": "code",
   "execution_count": 128,
   "id": "fallen-fellow",
   "metadata": {},
   "outputs": [
    {
     "name": "stdout",
     "output_type": "stream",
     "text": [
      "Decoded Message is   ............[My name is Suraj Singh Bhandari]...........\n"
     ]
    }
   ],
   "source": [
    "def k(key):\n",
    "    return open(key, \"rb\").read()\n",
    "def m(enc):\n",
    "    return open(enc,\"rb\").read()\n",
    "kk=k(\"aloveKEY\")\n",
    "mm=m(\"aloveENC\")\n",
    "Decrypt(mm,kk)"
   ]
  },
  {
   "cell_type": "code",
   "execution_count": 146,
   "id": "sapphire-integer",
   "metadata": {},
   "outputs": [],
   "source": [
    "def ReadFile(name,n):\n",
    "        try:\n",
    "            kk=k(name[n+1])\n",
    "            mm=m(name[n])\n",
    "            Decrypt(mm,kk) \n",
    "        except:\n",
    "            print(\"Invaid Argument \")\n",
    "def VLO():\n",
    "    names=show()\n",
    "    print()\n",
    "    n=int(input(\"Enter the file Number you want to open : \"))\n",
    "    print(names[n])\n",
    "    ReadFile(names,n)\n",
    "    \n",
    "def CN():\n",
    "    name=input(\"Enter the Name for your file \")\n",
    "    print(\"New file Intiated ....! Start Writing ... \")\n",
    "    enc=name+\"ENC\"\n",
    "    key=name+\"KEY\"\n",
    "    try:\n",
    "        k=generateKey(key)\n",
    "        with open(enc,'w') as f:\n",
    "            l=writeline()\n",
    "            for i in range(l):\n",
    "                sms=Encrypt(k,l[i])\n",
    "                f.write(sms)\n",
    "                f.write(\"\\n\")\n",
    "                \n",
    "            content=\" \".join(l)\n",
    "            print(r\"Your file with the Name .. ' {} ' .. and the content is ' {} ' is created and saved succesfully \".format(name,content))    \n",
    "    except:\n",
    "        print(\"File already exist \")\n",
    "        #CN()\n",
    "        \n",
    "def writeline():\n",
    "    print(\" \")\n",
    "    l=[]\n",
    "    line=0\n",
    "    print(\"Press enter for next line and 'q' to end writing \")\n",
    "    while(True):\n",
    "        line=line+1\n",
    "        print(\"Line ..   {} . \".format(line),end=\" \")\n",
    "        strInput=input(\"  : \")\n",
    "        print()\n",
    "        if strInput==\"q\":\n",
    "            print(\"\\n....Quitting....\\n\")\n",
    "            break\n",
    "        else:\n",
    "            l.append(strInput)\n",
    "            pass\n",
    "    return l     \n",
    "    \n",
    "def show():\n",
    "    print(\"This Directory conntain following files : \\n\")\n",
    "    names=os.listdir()\n",
    "    j=0\n",
    "    for i in names:\n",
    "        print(j,\".\",i,end=\"  |  \")\n",
    "        j=j+1\n",
    "    print()    \n",
    "    return names    \n",
    "def ModiFY() :\n",
    "    l=show()\n",
    "    print(\"\\n\")\n",
    "    n=input(\"Enter the file NUMBER u want to Modify \")\n",
    "    try:\n",
    "        n=int(n)\n",
    "        file_name=l[n]\n",
    "    except:\n",
    "        print(\"Invalid file number \")\n",
    "        ModiFY()\n",
    "    print(\"Select the appropriate action for the file named [ {} ] \".format(file_name))\n",
    "    print(\" \")\n",
    "    c=int(input(\" 1. DELETE       2. RENAME      3.UPDATE  : \"))\n",
    "    if c==1:\n",
    "        os.remove(file_name)\n",
    "        print(\"[ {} ] Deleted successfully \".format(file_name))\n",
    "    elif c==2:\n",
    "        name=input(\"Enter the new name for file \")\n",
    "        os.rename(file_name, name)\n",
    "        print(\"Files saved as {} \".format(name))\n",
    "    elif c==3:\n",
    "        try:\n",
    "            with open (file_name,'a+') as f:\n",
    "                f.seek(0)\n",
    "                doc=[i.strip('\\n') for i in f.readlines()]\n",
    "                print(\" \")\n",
    "                for i in doc:\n",
    "                    print(i)\n",
    "                f.seek(2)\n",
    "                update=writeline()\n",
    "                ll=len(update)\n",
    "                for i in range(ll):\n",
    "                    f.write(update[i])\n",
    "                    f.write(\"\\n\")\n",
    "                content=\" \".join(update)\n",
    "                print(r\"Your file Named .. ' {} ' .. with content is ' {} ' is updated and saved succesfully \".format(l[n],content))      \n",
    "        except:\n",
    "            print(\"Some error \")\n",
    "    else:\n",
    "        print(\"Enter Valid Option \")\n",
    "        ModiFY()"
   ]
  },
  {
   "cell_type": "code",
   "execution_count": 147,
   "id": "separate-caribbean",
   "metadata": {},
   "outputs": [
    {
     "name": "stdin",
     "output_type": "stream",
     "text": [
      "Enter the Name for your file  apkka\n"
     ]
    },
    {
     "name": "stdout",
     "output_type": "stream",
     "text": [
      "New file Intiated ....! Start Writing ... \n",
      " \n",
      "Press enter for next line and 'q' to end writing \n",
      "Line ..   1 .  "
     ]
    },
    {
     "name": "stdin",
     "output_type": "stream",
     "text": [
      "  :  apka kya haal\n"
     ]
    },
    {
     "name": "stdout",
     "output_type": "stream",
     "text": [
      "\n",
      "Line ..   2 .  "
     ]
    },
    {
     "name": "stdin",
     "output_type": "stream",
     "text": [
      "  :  me tooo\n"
     ]
    },
    {
     "name": "stdout",
     "output_type": "stream",
     "text": [
      "\n",
      "Line ..   3 .  "
     ]
    },
    {
     "name": "stdin",
     "output_type": "stream",
     "text": [
      "  :  q\n"
     ]
    },
    {
     "name": "stdout",
     "output_type": "stream",
     "text": [
      "\n",
      "\n",
      "....Quitting....\n",
      "\n",
      "File already exist \n"
     ]
    }
   ],
   "source": [
    "CN()"
   ]
  },
  {
   "cell_type": "code",
   "execution_count": 138,
   "id": "secret-smell",
   "metadata": {},
   "outputs": [],
   "source": [
    "\n",
    "def ui():\n",
    "    print(\"welcome to frontend of CYPHER, It helps you secure your information\")\n",
    "    \n",
    "    while(True):\n",
    "        print(\"\")\n",
    "        print(\"Select one of the function to perform as per ur need : \")\n",
    "        print(\"1.ViewList >> OPEN           2.CreateNew             3.EDIT             4.DeMO           'q' >> Quit \")\n",
    "        N=input(\"Enter :\")\n",
    "        print(\"\")\n",
    "        if(N=='1'):\n",
    "            VLO()  \n",
    "        elif(N=='2'):\n",
    "            CN()\n",
    "        elif(N=='3'):\n",
    "            ModiFY()\n",
    "        elif(N=='4'):\n",
    "            demo()\n",
    "        elif(N=='q'):\n",
    "            print(\"....  .....      ......  System signing off ....   ......    .... .... \")\n",
    "            break                       \n",
    "        else :  \n",
    "            print(\"YOU pressed 'outofbox' , Wait for 5 secs .... System Restarting ......... \")\n",
    "            sleep(5)\n",
    "            \n",
    "  \n",
    "        "
   ]
  },
  {
   "cell_type": "code",
   "execution_count": 139,
   "id": "asian-reach",
   "metadata": {},
   "outputs": [
    {
     "name": "stdout",
     "output_type": "stream",
     "text": [
      "welcome to frontend of CYPHER, It helps you secure your information\n",
      "\n",
      "Select one of the function to perform as per ur need : \n",
      "1.ViewList >> OPEN           2.CreateNew             3.EDIT             4.DeMO           'q' >> Quit \n"
     ]
    },
    {
     "name": "stdin",
     "output_type": "stream",
     "text": [
      "Enter : 2\n"
     ]
    },
    {
     "name": "stdout",
     "output_type": "stream",
     "text": [
      "\n"
     ]
    },
    {
     "name": "stdin",
     "output_type": "stream",
     "text": [
      "Enter the Name for your file  aurJ\n"
     ]
    },
    {
     "name": "stdout",
     "output_type": "stream",
     "text": [
      "New file Intiated ....! Start Writing ... \n",
      " \n",
      "Press enter for next line and 'q' to end writing \n",
      "Line ..   1 .  "
     ]
    },
    {
     "name": "stdin",
     "output_type": "stream",
     "text": [
      "  :  i love you kamini\n"
     ]
    },
    {
     "name": "stdout",
     "output_type": "stream",
     "text": [
      "\n",
      "Line ..   2 .  "
     ]
    },
    {
     "name": "stdin",
     "output_type": "stream",
     "text": [
      "  :  do u love me\n"
     ]
    },
    {
     "name": "stdout",
     "output_type": "stream",
     "text": [
      "\n",
      "Line ..   3 .  "
     ]
    },
    {
     "name": "stdin",
     "output_type": "stream",
     "text": [
      "  :  q\n"
     ]
    },
    {
     "name": "stdout",
     "output_type": "stream",
     "text": [
      "\n",
      "\n",
      "....Quitting....\n",
      "\n",
      "File already exist \n"
     ]
    },
    {
     "ename": "KeyboardInterrupt",
     "evalue": "Interrupted by user",
     "output_type": "error",
     "traceback": [
      "\u001b[1;31m---------------------------------------------------------------------------\u001b[0m",
      "\u001b[1;31mKeyboardInterrupt\u001b[0m                         Traceback (most recent call last)",
      "\u001b[1;32m<ipython-input-139-cb6fdfdd5137>\u001b[0m in \u001b[0;36m<module>\u001b[1;34m\u001b[0m\n\u001b[1;32m----> 1\u001b[1;33m \u001b[0mui\u001b[0m\u001b[1;33m(\u001b[0m\u001b[1;33m)\u001b[0m\u001b[1;33m\u001b[0m\u001b[1;33m\u001b[0m\u001b[0m\n\u001b[0m",
      "\u001b[1;32m<ipython-input-138-f5e6fa3bb497>\u001b[0m in \u001b[0;36mui\u001b[1;34m()\u001b[0m\n\u001b[0;32m     11\u001b[0m             \u001b[0mVLO\u001b[0m\u001b[1;33m(\u001b[0m\u001b[1;33m)\u001b[0m\u001b[1;33m\u001b[0m\u001b[1;33m\u001b[0m\u001b[0m\n\u001b[0;32m     12\u001b[0m         \u001b[1;32melif\u001b[0m\u001b[1;33m(\u001b[0m\u001b[0mN\u001b[0m\u001b[1;33m==\u001b[0m\u001b[1;34m'2'\u001b[0m\u001b[1;33m)\u001b[0m\u001b[1;33m:\u001b[0m\u001b[1;33m\u001b[0m\u001b[1;33m\u001b[0m\u001b[0m\n\u001b[1;32m---> 13\u001b[1;33m             \u001b[0mCN\u001b[0m\u001b[1;33m(\u001b[0m\u001b[1;33m)\u001b[0m\u001b[1;33m\u001b[0m\u001b[1;33m\u001b[0m\u001b[0m\n\u001b[0m\u001b[0;32m     14\u001b[0m         \u001b[1;32melif\u001b[0m\u001b[1;33m(\u001b[0m\u001b[0mN\u001b[0m\u001b[1;33m==\u001b[0m\u001b[1;34m'3'\u001b[0m\u001b[1;33m)\u001b[0m\u001b[1;33m:\u001b[0m\u001b[1;33m\u001b[0m\u001b[1;33m\u001b[0m\u001b[0m\n\u001b[0;32m     15\u001b[0m             \u001b[0mModiFY\u001b[0m\u001b[1;33m(\u001b[0m\u001b[1;33m)\u001b[0m\u001b[1;33m\u001b[0m\u001b[1;33m\u001b[0m\u001b[0m\n",
      "\u001b[1;32m<ipython-input-137-3c7ca70d965b>\u001b[0m in \u001b[0;36mCN\u001b[1;34m()\u001b[0m\n\u001b[0;32m     31\u001b[0m     \u001b[1;32mexcept\u001b[0m\u001b[1;33m:\u001b[0m\u001b[1;33m\u001b[0m\u001b[1;33m\u001b[0m\u001b[0m\n\u001b[0;32m     32\u001b[0m         \u001b[0mprint\u001b[0m\u001b[1;33m(\u001b[0m\u001b[1;34m\"File already exist \"\u001b[0m\u001b[1;33m)\u001b[0m\u001b[1;33m\u001b[0m\u001b[1;33m\u001b[0m\u001b[0m\n\u001b[1;32m---> 33\u001b[1;33m         \u001b[0mCN\u001b[0m\u001b[1;33m(\u001b[0m\u001b[1;33m)\u001b[0m\u001b[1;33m\u001b[0m\u001b[1;33m\u001b[0m\u001b[0m\n\u001b[0m\u001b[0;32m     34\u001b[0m \u001b[1;33m\u001b[0m\u001b[0m\n\u001b[0;32m     35\u001b[0m \u001b[1;32mdef\u001b[0m \u001b[0mwriteline\u001b[0m\u001b[1;33m(\u001b[0m\u001b[1;33m)\u001b[0m\u001b[1;33m:\u001b[0m\u001b[1;33m\u001b[0m\u001b[1;33m\u001b[0m\u001b[0m\n",
      "\u001b[1;32m<ipython-input-137-3c7ca70d965b>\u001b[0m in \u001b[0;36mCN\u001b[1;34m()\u001b[0m\n\u001b[0;32m     14\u001b[0m \u001b[1;33m\u001b[0m\u001b[0m\n\u001b[0;32m     15\u001b[0m \u001b[1;32mdef\u001b[0m \u001b[0mCN\u001b[0m\u001b[1;33m(\u001b[0m\u001b[1;33m)\u001b[0m\u001b[1;33m:\u001b[0m\u001b[1;33m\u001b[0m\u001b[1;33m\u001b[0m\u001b[0m\n\u001b[1;32m---> 16\u001b[1;33m     \u001b[0mname\u001b[0m\u001b[1;33m=\u001b[0m\u001b[0minput\u001b[0m\u001b[1;33m(\u001b[0m\u001b[1;34m\"Enter the Name for your file \"\u001b[0m\u001b[1;33m)\u001b[0m\u001b[1;33m\u001b[0m\u001b[1;33m\u001b[0m\u001b[0m\n\u001b[0m\u001b[0;32m     17\u001b[0m     \u001b[0mprint\u001b[0m\u001b[1;33m(\u001b[0m\u001b[1;34m\"New file Intiated ....! Start Writing ... \"\u001b[0m\u001b[1;33m)\u001b[0m\u001b[1;33m\u001b[0m\u001b[1;33m\u001b[0m\u001b[0m\n\u001b[0;32m     18\u001b[0m     \u001b[0menc\u001b[0m\u001b[1;33m=\u001b[0m\u001b[0mname\u001b[0m\u001b[1;33m+\u001b[0m\u001b[1;34m\"ENC\"\u001b[0m\u001b[1;33m\u001b[0m\u001b[1;33m\u001b[0m\u001b[0m\n",
      "\u001b[1;32m~\\anaconda3\\lib\\site-packages\\ipykernel\\kernelbase.py\u001b[0m in \u001b[0;36mraw_input\u001b[1;34m(self, prompt)\u001b[0m\n\u001b[0;32m    858\u001b[0m                 \u001b[1;34m\"raw_input was called, but this frontend does not support input requests.\"\u001b[0m\u001b[1;33m\u001b[0m\u001b[1;33m\u001b[0m\u001b[0m\n\u001b[0;32m    859\u001b[0m             )\n\u001b[1;32m--> 860\u001b[1;33m         return self._input_request(str(prompt),\n\u001b[0m\u001b[0;32m    861\u001b[0m             \u001b[0mself\u001b[0m\u001b[1;33m.\u001b[0m\u001b[0m_parent_ident\u001b[0m\u001b[1;33m,\u001b[0m\u001b[1;33m\u001b[0m\u001b[1;33m\u001b[0m\u001b[0m\n\u001b[0;32m    862\u001b[0m             \u001b[0mself\u001b[0m\u001b[1;33m.\u001b[0m\u001b[0m_parent_header\u001b[0m\u001b[1;33m,\u001b[0m\u001b[1;33m\u001b[0m\u001b[1;33m\u001b[0m\u001b[0m\n",
      "\u001b[1;32m~\\anaconda3\\lib\\site-packages\\ipykernel\\kernelbase.py\u001b[0m in \u001b[0;36m_input_request\u001b[1;34m(self, prompt, ident, parent, password)\u001b[0m\n\u001b[0;32m    902\u001b[0m             \u001b[1;32mexcept\u001b[0m \u001b[0mKeyboardInterrupt\u001b[0m\u001b[1;33m:\u001b[0m\u001b[1;33m\u001b[0m\u001b[1;33m\u001b[0m\u001b[0m\n\u001b[0;32m    903\u001b[0m                 \u001b[1;31m# re-raise KeyboardInterrupt, to truncate traceback\u001b[0m\u001b[1;33m\u001b[0m\u001b[1;33m\u001b[0m\u001b[1;33m\u001b[0m\u001b[0m\n\u001b[1;32m--> 904\u001b[1;33m                 \u001b[1;32mraise\u001b[0m \u001b[0mKeyboardInterrupt\u001b[0m\u001b[1;33m(\u001b[0m\u001b[1;34m\"Interrupted by user\"\u001b[0m\u001b[1;33m)\u001b[0m \u001b[1;32mfrom\u001b[0m \u001b[1;32mNone\u001b[0m\u001b[1;33m\u001b[0m\u001b[1;33m\u001b[0m\u001b[0m\n\u001b[0m\u001b[0;32m    905\u001b[0m             \u001b[1;32mexcept\u001b[0m \u001b[0mException\u001b[0m \u001b[1;32mas\u001b[0m \u001b[0me\u001b[0m\u001b[1;33m:\u001b[0m\u001b[1;33m\u001b[0m\u001b[1;33m\u001b[0m\u001b[0m\n\u001b[0;32m    906\u001b[0m                 \u001b[0mself\u001b[0m\u001b[1;33m.\u001b[0m\u001b[0mlog\u001b[0m\u001b[1;33m.\u001b[0m\u001b[0mwarning\u001b[0m\u001b[1;33m(\u001b[0m\u001b[1;34m\"Invalid Message:\"\u001b[0m\u001b[1;33m,\u001b[0m \u001b[0mexc_info\u001b[0m\u001b[1;33m=\u001b[0m\u001b[1;32mTrue\u001b[0m\u001b[1;33m)\u001b[0m\u001b[1;33m\u001b[0m\u001b[1;33m\u001b[0m\u001b[0m\n",
      "\u001b[1;31mKeyboardInterrupt\u001b[0m: Interrupted by user"
     ]
    }
   ],
   "source": [
    "ui()"
   ]
  },
  {
   "cell_type": "code",
   "execution_count": 40,
   "id": "emotional-mixture",
   "metadata": {},
   "outputs": [
    {
     "name": "stdout",
     "output_type": "stream",
     "text": [
      "Enter a string \n"
     ]
    },
    {
     "name": "stdin",
     "output_type": "stream",
     "text": [
      " suraj\n"
     ]
    },
    {
     "name": "stdout",
     "output_type": "stream",
     "text": [
      "Your original text is ...........[suraj]...........\n",
      "Your Encoded message  .........[gAAAAABgmll6dVr2ZYYdBLF0a26y_FYYp-_qw6Zx4Y5awXpTXtMUjJ9Wwc7yAGewMP5ZcneYuXJ9X6qIeT70YLe3hNBgSYJrJQ==].....  \n",
      "KeY used for encryption is ............. [RgbUVQSubPLKAOmzIKvn7vu5ugCVGTQbGz9N4QN01NM=]..........\n",
      "Decoded Message is   ............[suraj]...........\n",
      "\n"
     ]
    },
    {
     "name": "stdin",
     "output_type": "stream",
     "text": [
      "Do u wanna Quit('q') or Continue('c') zz\n"
     ]
    },
    {
     "data": {
      "text/plain": [
       "'zz'"
      ]
     },
     "execution_count": 40,
     "metadata": {},
     "output_type": "execute_result"
    }
   ],
   "source": [
    "demo()"
   ]
  },
  {
   "cell_type": "code",
   "execution_count": null,
   "id": "resident-latin",
   "metadata": {},
   "outputs": [],
   "source": [
    "with open(\"yash\") as f:\n",
    "    f."
   ]
  },
  {
   "cell_type": "code",
   "execution_count": null,
   "id": "arctic-conjunction",
   "metadata": {},
   "outputs": [],
   "source": []
  },
  {
   "cell_type": "code",
   "execution_count": null,
   "id": "substantial-standard",
   "metadata": {},
   "outputs": [],
   "source": []
  },
  {
   "cell_type": "code",
   "execution_count": null,
   "id": "collect-referral",
   "metadata": {},
   "outputs": [],
   "source": []
  },
  {
   "cell_type": "code",
   "execution_count": null,
   "id": "freelance-briefing",
   "metadata": {},
   "outputs": [],
   "source": []
  },
  {
   "cell_type": "code",
   "execution_count": null,
   "id": "latter-complaint",
   "metadata": {},
   "outputs": [],
   "source": [
    "\n"
   ]
  },
  {
   "cell_type": "code",
   "execution_count": null,
   "id": "alone-cincinnati",
   "metadata": {},
   "outputs": [],
   "source": []
  },
  {
   "cell_type": "code",
   "execution_count": null,
   "id": "transparent-arthritis",
   "metadata": {},
   "outputs": [],
   "source": []
  },
  {
   "cell_type": "code",
   "execution_count": null,
   "id": "appreciated-protest",
   "metadata": {},
   "outputs": [],
   "source": []
  },
  {
   "cell_type": "code",
   "execution_count": null,
   "id": "hollywood-sitting",
   "metadata": {},
   "outputs": [],
   "source": []
  },
  {
   "cell_type": "code",
   "execution_count": null,
   "id": "determined-saver",
   "metadata": {},
   "outputs": [],
   "source": []
  },
  {
   "cell_type": "code",
   "execution_count": null,
   "id": "nearby-article",
   "metadata": {},
   "outputs": [],
   "source": []
  }
 ],
 "metadata": {
  "kernelspec": {
   "display_name": "Python 3",
   "language": "python",
   "name": "python3"
  },
  "language_info": {
   "codemirror_mode": {
    "name": "ipython",
    "version": 3
   },
   "file_extension": ".py",
   "mimetype": "text/x-python",
   "name": "python",
   "nbconvert_exporter": "python",
   "pygments_lexer": "ipython3",
   "version": "3.8.5"
  }
 },
 "nbformat": 4,
 "nbformat_minor": 5
}
